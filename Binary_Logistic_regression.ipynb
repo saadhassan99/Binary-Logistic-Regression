{
 "cells": [
  {
   "cell_type": "markdown",
   "metadata": {
    "id": "-huWlQeipLD4"
   },
   "source": [
    "# Load the Dataset"
   ]
  },
  {
   "cell_type": "code",
   "execution_count": 40,
   "metadata": {
    "id": "E0B2bA__3BHf"
   },
   "outputs": [],
   "source": [
    "import numpy as np\n",
    "import matplotlib.pyplot as plt"
   ]
  },
  {
   "cell_type": "code",
   "execution_count": 41,
   "metadata": {
    "id": "w1lDzhcPzhTv"
   },
   "outputs": [],
   "source": [
    "from sklearn.datasets import fetch_openml\n",
    "\n",
    "def load_dataset():\n",
    "    mnist = fetch_openml('mnist_784', version=1)\n",
    "    mnist.keys()\n",
    "    X, y = mnist['data'], mnist['target']\n",
    "    X_train, X_test, labels_train, labels_test = X[:60000], X[60000:], y[:60000], y[60000:]\n",
    "    X_train = X_train/255.0\n",
    "    X_test = X_test/255.0\n",
    "    return X_train, labels_train, X_test, labels_test"
   ]
  },
  {
   "cell_type": "code",
   "execution_count": 42,
   "metadata": {
    "id": "KEnuuDCDtc_i"
   },
   "outputs": [],
   "source": [
    "X_train, y_train, X_test, y_test = load_dataset()"
   ]
  },
  {
   "cell_type": "markdown",
   "metadata": {
    "id": "I0lkjZZJuCQv"
   },
   "source": [
    "Lets peek at a digit in the dataset"
   ]
  },
  {
   "cell_type": "code",
   "execution_count": 43,
   "metadata": {
    "colab": {
     "base_uri": "https://localhost:8080/",
     "height": 265
    },
    "id": "9B7dK1nUuFyR",
    "outputId": "15d1dae8-dc5c-464c-ca78-39470809715e"
   },
   "outputs": [
    {
     "data": {
      "image/png": "[encoded data removed]",
      "text/plain": [
       "<Figure size 432x288 with 1 Axes>"
      ]
     },
     "metadata": {
      "needs_background": "light",
      "tags": []
     },
     "output_type": "display_data"
    }
   ],
   "source": [
    "some_digit = X_train[0]\n",
    "some_digit_image = some_digit.reshape(28,28)\n",
    "plt.imshow(some_digit_image)\n",
    "plt.show()"
   ]
  },
  {
   "cell_type": "markdown",
   "metadata": {
    "id": "GD46EwhRuYno"
   },
   "source": [
    "This looks like a number 5 and indeed that what the label tells us too"
   ]
  },
  {
   "cell_type": "code",
   "execution_count": 44,
   "metadata": {
    "colab": {
     "base_uri": "https://localhost:8080/",
     "height": 35
    },
    "id": "br0MIpJ_ud8i",
    "outputId": "43eb25a5-95d0-400d-9c36-00deaa0fa173"
   },
   "outputs": [
    {
     "data": {
      "application/vnd.google.colaboratory.intrinsic+json": {
       "type": "string"
      },
      "text/plain": [
       "'5'"
      ]
     },
     "execution_count": 44,
     "metadata": {
      "tags": []
     },
     "output_type": "execute_result"
    }
   ],
   "source": [
    "y_train[0]"
   ]
  },
  {
   "cell_type": "markdown",
   "metadata": {
    "id": "gy63IOWCujMn"
   },
   "source": [
    "Note that the label is a string. Most ML model expect numbers, so let's cast y to integer:"
   ]
  },
  {
   "cell_type": "code",
   "execution_count": 45,
   "metadata": {
    "id": "5oAQBMvguuHF"
   },
   "outputs": [],
   "source": [
    "y_train = y_train.astype(np.uint8)\n",
    "y_test = y_test.astype(np.uint8)"
   ]
  },
  {
   "cell_type": "markdown",
   "metadata": {
    "id": "J0D6cRdyDbO9"
   },
   "source": [
    "# Preprocess the dataset"
   ]
  },
  {
   "cell_type": "markdown",
   "metadata": {
    "id": "RlsIX-OCvFbh"
   },
   "source": [
    "For this binary logistic regression model, we will specifically recognize if the digit is a 2 or 7. Here, let Y = 1 for all the 7’s digits in the dataset, and use Y = −1 for 2. We will use\n",
    "regularized logistic regression."
   ]
  },
  {
   "cell_type": "code",
   "execution_count": 46,
   "metadata": {
    "colab": {
     "base_uri": "https://localhost:8080/"
    },
    "id": "ET3XSudhzgEp",
    "outputId": "933ba103-902c-4385-d9cd-7a1bb2043326"
   },
   "outputs": [
    {
     "name": "stdout",
     "output_type": "stream",
     "text": [
      "(60000, 784)\n",
      "(60000,)\n",
      "(10000, 784)\n",
      "(10000,)\n"
     ]
    }
   ],
   "source": [
    "print(X_train.shape)\n",
    "print(y_train.shape)\n",
    "print(X_test.shape)\n",
    "print(y_test.shape)"
   ]
  },
  {
   "cell_type": "code",
   "execution_count": 47,
   "metadata": {
    "id": "-hl0eoQ1vFAr"
   },
   "outputs": [],
   "source": [
    "indexOf_2_7s = (y_train == 2).astype('int') + (y_train == 7).astype('int') # 1 for all 2s and 7s, 0s for all the other digits\n",
    "\n",
    "X_train27 = X_train[indexOf_2_7s.astype('bool')].astype('float') # only keep 2 and 7s in the dataset and get rid of every thing else\n",
    "y_train27 = y_train[indexOf_2_7s.astype('bool')].astype('float') # do the same for labels. get rid of all labels except for 2s and 7s\n",
    "y_train27[y_train27 == 2] = -1\n",
    "y_train27[y_train27 == 7] = 1\n",
    "\n",
    "indexOf_2_7s_test = (y_test == 2).astype('int') + (y_test == 7).astype('int')\n",
    "X_test27 = X_test[indexOf_2_7s_test.astype('bool')].astype('float')\n",
    "y_test27 = y_test[indexOf_2_7s_test.astype('bool')].astype('float')\n",
    "y_test27[y_test27 == 2] = -1\n",
    "y_test27[y_test27 == 7] = 1"
   ]
  },
  {
   "cell_type": "code",
   "execution_count": 48,
   "metadata": {
    "colab": {
     "base_uri": "https://localhost:8080/"
    },
    "id": "WQgZjkLg0D2A",
    "outputId": "6cbb9456-a39a-4dc4-905c-61823b43f403"
   },
   "outputs": [
    {
     "name": "stdout",
     "output_type": "stream",
     "text": [
      "(12223, 784)\n",
      "(12223,)\n",
      "(2060, 784)\n",
      "(2060,)\n"
     ]
    }
   ],
   "source": [
    "print(X_train27.shape)\n",
    "print(y_train27.shape)\n",
    "print(X_test27.shape)\n",
    "print(y_test27.shape)"
   ]
  },
  {
   "cell_type": "markdown",
   "metadata": {
    "id": "9ANsAzpK1MxE"
   },
   "source": [
    "# Build the Binary Logistic Regression Model"
   ]
  },
  {
   "cell_type": "markdown",
   "metadata": {
    "id": "tpwdpY99t2Yz"
   },
   "source": [
    "In part a, we calculated the equation for gradient descent, i.e.,\n",
    "\n",
    "![gradient w.PNG](data:image/png;base64,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)\n",
    "\n",
    "![gradient b.JPG](data:image/jpeg;base64,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)"
   ]
  },
  {
   "cell_type": "code",
   "execution_count": 49,
   "metadata": {
    "id": "rMSHp8q_1X_F"
   },
   "outputs": [],
   "source": [
    "def grad_Jw(w, b, X, y, lambd):\n",
    "    return np.mean(((mu(w, b, X, y) - 1)*y)[:,None]*X, axis = 0) +2*lambd*w"
   ]
  },
  {
   "cell_type": "code",
   "execution_count": 50,
   "metadata": {
    "id": "ONpaHgTE3srf"
   },
   "outputs": [],
   "source": [
    "def grad_Jb(w, b, X, y):\n",
    "    return np.mean((mu(w, b, X, y) - 1)*y, axis = 0)"
   ]
  },
  {
   "cell_type": "markdown",
   "metadata": {
    "id": "fx-w3BpWzaun"
   },
   "source": [
    "Therefore to calculate the gradient, we need 'mu', which is given by:\n",
    "\n",
    "![mu.JPG](data:image/jpeg;base64,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)"
   ]
  },
  {
   "cell_type": "code",
   "execution_count": 51,
   "metadata": {
    "id": "tvsNw-lPrtI-"
   },
   "outputs": [],
   "source": [
    "def mu(w, b, X, y):\n",
    "    return 1/(1+np.exp(-y*(b + X.dot(w))))"
   ]
  },
  {
   "cell_type": "markdown",
   "metadata": {
    "id": "73DDa6aW5CCy"
   },
   "source": [
    "The objective function is given by the equation:\n",
    "\n",
    "![objectiveFunction.JPG](data:image/jpeg;base64,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)"
   ]
  },
  {
   "cell_type": "code",
   "execution_count": 52,
   "metadata": {
    "id": "FhCNYEPI4TYH"
   },
   "outputs": [],
   "source": [
    "def J(w, b, X, y, lambd = 0.1):\n",
    "    return np.mean(np.log(1+np.exp(-y*(b + X.dot(w))))) + lambd*w.dot(w)"
   ]
  },
  {
   "cell_type": "markdown",
   "metadata": {
    "id": "CJA_ZzCS5-TP"
   },
   "source": [
    "Implement the gradient descent"
   ]
  },
  {
   "cell_type": "code",
   "execution_count": 53,
   "metadata": {
    "id": "8-aIU-pe6klt"
   },
   "outputs": [],
   "source": [
    "def grad_descent(step, X, y, lambd = 0.1, tolerance=1e-2):\n",
    "    n, d = X.shape\n",
    "    w_init = np.zeros(d)\n",
    "    b_init = 0\n",
    "    iteration = 0\n",
    "    w = w_init\n",
    "    b = b_init\n",
    "    w_prev = w_init + np.inf\n",
    "    loss = []\n",
    "    w_history = []\n",
    "    b_history = []\n",
    "    print(\"Training...\")\n",
    "    while True:\n",
    "        iteration += 1\n",
    "        w_prev = np.copy(w)\n",
    "        w = w - step*grad_Jw(w, b, X, y, lambd)\n",
    "        b = b - step*grad_Jb(w, b, X, y)\n",
    "        loss.append(J(w, b, X, y, lambd))\n",
    "        w_history.append(w)\n",
    "        b_history.append(b)\n",
    "        if np.sum(abs(w_prev - w)) < tolerance:\n",
    "            print(\"Converged\")\n",
    "            break\n",
    "        print('Iteration: ', iteration, 'Loss: ', loss[-1])\n",
    "    return w, b, loss, w_history, b_history"
   ]
  },
  {
   "cell_type": "markdown",
   "metadata": {
    "id": "IZpuX5kFGtDP"
   },
   "source": [
    "# Train the model"
   ]
  },
  {
   "cell_type": "markdown",
   "metadata": {
    "id": "RjqDFfNYYVE5"
   },
   "source": [
    "PART B."
   ]
  },
  {
   "cell_type": "code",
   "execution_count": 54,
   "metadata": {
    "colab": {
     "base_uri": "https://localhost:8080/"
    },
    "id": "WUWjC4td9Icw",
    "outputId": "f564a8fc-26bd-4bdf-ac85-46914363b04e"
   },
   "outputs": [
    {
     "name": "stdout",
     "output_type": "stream",
     "text": [
      "Training...\n",
      "Iteration:  1 Loss:  0.5379033654758291\n",
      "Iteration:  2 Loss:  0.4472036741869556\n",
      "Iteration:  3 Loss:  0.3906893951600272\n",
      "Iteration:  4 Loss:  0.3533289118900081\n",
      "Iteration:  5 Loss:  0.32737739588363746\n",
      "Iteration:  6 Loss:  0.3086303360016554\n",
      "Iteration:  7 Loss:  0.29466247224521364\n",
      "Iteration:  8 Loss:  0.2839954774444582\n",
      "Iteration:  9 Loss:  0.2756847094268647\n",
      "Iteration:  10 Loss:  0.26910212128149835\n",
      "Iteration:  11 Loss:  0.2638159936465849\n",
      "Iteration:  12 Loss:  0.25952107698809834\n",
      "Iteration:  13 Loss:  0.25599629881382846\n",
      "Iteration:  14 Loss:  0.2530782177839683\n",
      "Iteration:  15 Loss:  0.25064382797242685\n",
      "Iteration:  16 Loss:  0.2485991076534214\n",
      "Iteration:  17 Loss:  0.24687120547294028\n",
      "Iteration:  18 Loss:  0.24540299228600265\n",
      "Iteration:  19 Loss:  0.24414918873997837\n",
      "Iteration:  20 Loss:  0.24307356513167044\n",
      "Iteration:  21 Loss:  0.2421468851038347\n",
      "Iteration:  22 Loss:  0.24134537439019044\n",
      "Iteration:  23 Loss:  0.2406495660593925\n",
      "Iteration:  24 Loss:  0.24004341963745207\n",
      "Iteration:  25 Loss:  0.23951364208609444\n",
      "Iteration:  26 Loss:  0.23904915935084708\n",
      "Iteration:  27 Loss:  0.23864070146846647\n",
      "Iteration:  28 Loss:  0.23828047419497767\n",
      "Iteration:  29 Loss:  0.23796189717480792\n",
      "Iteration:  30 Loss:  0.23767939373136204\n",
      "Iteration:  31 Loss:  0.23742822102828737\n",
      "Iteration:  32 Loss:  0.2372043320397319\n",
      "Iteration:  33 Loss:  0.2370042627586697\n",
      "Iteration:  34 Loss:  0.23682503956006606\n",
      "Iteration:  35 Loss:  0.23666410275722571\n",
      "Iteration:  36 Loss:  0.23651924324221157\n",
      "Iteration:  37 Loss:  0.2363885497543156\n",
      "Iteration:  38 Loss:  0.23627036482452973\n",
      "Iteration:  39 Loss:  0.23616324783553877\n",
      "Iteration:  40 Loss:  0.23606594394298536\n",
      "Iteration:  41 Loss:  0.2359773578447146\n",
      "Iteration:  42 Loss:  0.2358965315754062\n",
      "Iteration:  43 Loss:  0.23582262565576045\n",
      "Iteration:  44 Loss:  0.23575490304680052\n",
      "Iteration:  45 Loss:  0.23569271545744652\n",
      "Iteration:  46 Loss:  0.23563549163233566\n",
      "Iteration:  47 Loss:  0.23558272731081198\n",
      "Iteration:  48 Loss:  0.2355339766001026\n",
      "Iteration:  49 Loss:  0.23548884454831503\n",
      "Iteration:  50 Loss:  0.23544698073788034\n",
      "Iteration:  51 Loss:  0.23540807374890466\n",
      "Iteration:  52 Loss:  0.23537184636573869\n",
      "Iteration:  53 Loss:  0.23533805141986003\n",
      "Iteration:  54 Loss:  0.23530646817863288\n",
      "Iteration:  55 Loss:  0.23527689920325517\n",
      "Iteration:  56 Loss:  0.23524916761071335\n",
      "Iteration:  57 Loss:  0.23522311468422585\n",
      "Iteration:  58 Loss:  0.2351985977847878\n",
      "Iteration:  59 Loss:  0.2351754885232899\n",
      "Iteration:  60 Loss:  0.23515367115848643\n",
      "Iteration:  61 Loss:  0.23513304119100423\n",
      "Iteration:  62 Loss:  0.23511350412776416\n",
      "Iteration:  63 Loss:  0.2350949743947384\n",
      "Iteration:  64 Loss:  0.23507737437900372\n",
      "Iteration:  65 Loss:  0.2350606335836371\n",
      "Iteration:  66 Loss:  0.2350446878812229\n",
      "Iteration:  67 Loss:  0.23502947885363712\n",
      "Iteration:  68 Loss:  0.23501495320741228\n",
      "Iteration:  69 Loss:  0.23500106225538783\n",
      "Iteration:  70 Loss:  0.23498776145656275\n",
      "Iteration:  71 Loss:  0.23497501000711124\n",
      "Iteration:  72 Loss:  0.23496277047642342\n",
      "Iteration:  73 Loss:  0.2349510084828146\n",
      "Iteration:  74 Loss:  0.23493969240422152\n",
      "Iteration:  75 Loss:  0.2349287931197902\n",
      "Iteration:  76 Loss:  0.23491828377877028\n",
      "Iteration:  77 Loss:  0.2349081395935712\n",
      "Iteration:  78 Loss:  0.23489833765422258\n",
      "Iteration:  79 Loss:  0.2348888567618145\n",
      "Iteration:  80 Loss:  0.23487967727878914\n",
      "Iteration:  81 Loss:  0.23487078099420589\n",
      "Iteration:  82 Loss:  0.23486215100233032\n",
      "Iteration:  83 Loss:  0.23485377159308904\n",
      "Iteration:  84 Loss:  0.234845628153105\n",
      "Iteration:  85 Loss:  0.23483770707617657\n",
      "Iteration:  86 Loss:  0.23482999568219687\n",
      "Iteration:  87 Loss:  0.23482248214362283\n",
      "Converged\n"
     ]
    }
   ],
   "source": [
    "w, b, loss, w_history, b_history = grad_descent(0.1, X_train27, y_train27, lambd = 0.1)"
   ]
  },
  {
   "cell_type": "code",
   "execution_count": 55,
   "metadata": {
    "colab": {
     "base_uri": "https://localhost:8080/",
     "height": 404
    },
    "id": "YDPReNq1-b8K",
    "outputId": "0f386e52-3936-46e2-c1ac-ef864b3d5077"
   },
   "outputs": [
    {
     "data": {
      "image/png": "[encoded data removed]",
      "text/plain": [
       "<Figure size 720x432 with 1 Axes>"
      ]
     },
     "metadata": {
      "needs_background": "light",
      "tags": []
     },
     "output_type": "display_data"
    }
   ],
   "source": [
    "# part b (i)\n",
    "test_loss = [J(w, b, X_test27, y_test27, lambd = 0.1) for w, b in zip(w_history, b_history)]\n",
    "\n",
    "plt.figure(figsize = (10, 6))\n",
    "plt.plot(loss, '-r', label = 'train_loss')\n",
    "plt.plot(test_loss, '-b', label = 'test_loss')\n",
    "plt.title('Problem 7.b (i): Loss')\n",
    "plt.legend()\n",
    "plt.xlabel('iteration')\n",
    "plt.ylabel('error')\n",
    "plt.show()"
   ]
  },
  {
   "cell_type": "code",
   "execution_count": 56,
   "metadata": {
    "id": "3iReC3NLDqSG"
   },
   "outputs": [],
   "source": [
    "# part b (ii)\n",
    "def predict(X, w, b):\n",
    "    return np.sign(b + np.dot(X, w))\n",
    "\n",
    "def missclassification_error(y_pred, y_true): \n",
    "    return 1- np.mean(y_pred == y_true)"
   ]
  },
  {
   "cell_type": "code",
   "execution_count": 57,
   "metadata": {
    "id": "6SFem--hK37D"
   },
   "outputs": [],
   "source": [
    "y_train_pred = [predict(X_train27, w, b) for w, b in zip(w_history, b_history)]\n",
    "train_error = [missclassification_error(y_train_pred, y_train27) for y_train_pred in y_train_pred]\n",
    "\n",
    "y_test_pred = [predict(X_test27, w, b) for w, b in zip(w_history, b_history)]\n",
    "test_error = [missclassification_error(y_test_pred, y_test27) for y_test_pred in y_test_pred]"
   ]
  },
  {
   "cell_type": "code",
   "execution_count": 58,
   "metadata": {
    "colab": {
     "base_uri": "https://localhost:8080/",
     "height": 404
    },
    "id": "De9-pXyHL3Ch",
    "outputId": "c64b1854-9d8d-429d-92d1-733afcbdcd95"
   },
   "outputs": [
    {
     "data": {
      "image/png": "[encoded data removed]",
      "text/plain": [
       "<Figure size 720x432 with 1 Axes>"
      ]
     },
     "metadata": {
      "needs_background": "light",
      "tags": []
     },
     "output_type": "display_data"
    }
   ],
   "source": [
    "#plot\n",
    "plt.figure(figsize=(10,6))\n",
    "plt.plot(train_error, '-r', label = 'training error')\n",
    "plt.plot(test_error, '-b', label = \"test error\")\n",
    "plt.title('problem 7.b (ii): error rate at each iteration')\n",
    "plt.legend()\n",
    "plt.xlabel('iteration')\n",
    "plt.ylabel('error')\n",
    "plt.show()"
   ]
  },
  {
   "cell_type": "markdown",
   "metadata": {
    "id": "pfZpRRwiYX7o"
   },
   "source": [
    "PART C"
   ]
  },
  {
   "cell_type": "code",
   "execution_count": 60,
   "metadata": {
    "id": "aTptCa0RYajJ"
   },
   "outputs": [],
   "source": [
    "def Stochastic_GD(X, y, step, batch_size, lambd = 0.1, epochs=1000, tolerance = 1e-2):\n",
    "    n, d = X.shape\n",
    "    \n",
    "    w_init = np.zeros(d)\n",
    "    b_init = 0\n",
    "    iteration = 0\n",
    "\n",
    "    w = w_init\n",
    "    b = b_init\n",
    "    w_prev = w_init + np.inf\n",
    "    loss = []\n",
    "    w_history = []\n",
    "    b_history = []\n",
    "    print(\"Training....\")\n",
    "    while iteration < epochs:\n",
    "        \n",
    "        #pick n random elements for the gradient calculation\n",
    "        idx = np.random.permutation(np.arange(n))[:batch_size]\n",
    "        X_batch = X[idx]\n",
    "        y_batch = y[idx]\n",
    "        \n",
    "        iteration += 1\n",
    "        w_prev = np.copy(w)\n",
    "        w = w - step * grad_Jw(w, b, X_batch, y_batch, lambd)\n",
    "        b = b - step * grad_Jb(w, b, X_batch, y_batch)\n",
    "        loss.append(J(w, b, X, y, lambd))\n",
    "        w_history.append(w)\n",
    "        b_history.append(b)\n",
    "        if np.sum(abs(w_prev - w)) < tolerance:\n",
    "            print(\"Converged\")\n",
    "            break\n",
    "        print('Iteration: ', iteration, 'Loss: ', loss[-1])\n",
    "    return loss, w, b, w_history, b_history"
   ]
  },
  {
   "cell_type": "code",
   "execution_count": 68,
   "metadata": {
    "colab": {
     "base_uri": "https://localhost:8080/"
    },
    "id": "q-Rr72dIfED2",
    "outputId": "a294581c-fd5a-4bc9-eb49-c3193f3ba703"
   },
   "outputs": [
    {
     "name": "stdout",
     "output_type": "stream",
     "text": [
      "Training....\n",
      "Iteration:  1 Loss:  0.6719078786437508\n",
      "Iteration:  2 Loss:  0.6486684357802383\n",
      "Iteration:  3 Loss:  0.6332110019859986\n",
      "Iteration:  4 Loss:  0.6364267053954277\n",
      "Iteration:  5 Loss:  0.5917899557829179\n",
      "Iteration:  6 Loss:  0.5939055727065349\n",
      "Iteration:  7 Loss:  0.5767507151169982\n",
      "Iteration:  8 Loss:  0.5730654278835146\n",
      "Iteration:  9 Loss:  0.5437152693655776\n",
      "Iteration:  10 Loss:  0.5295524949272351\n",
      "Iteration:  11 Loss:  0.5189450232249195\n",
      "Iteration:  12 Loss:  0.5121639923935558\n",
      "Iteration:  13 Loss:  0.506142048649156\n",
      "Iteration:  14 Loss:  0.5191463790932718\n",
      "Iteration:  15 Loss:  0.520966141399463\n",
      "Iteration:  16 Loss:  0.49149756765923824\n",
      "Iteration:  17 Loss:  0.4878832174253078\n",
      "Iteration:  18 Loss:  0.4712015107482017\n",
      "Iteration:  19 Loss:  0.47608187800709145\n",
      "Iteration:  20 Loss:  0.47793925799634335\n",
      "Iteration:  21 Loss:  0.45021611687995744\n",
      "Iteration:  22 Loss:  0.44938211783877374\n",
      "Iteration:  23 Loss:  0.43361974130289505\n",
      "Iteration:  24 Loss:  0.42344420536655303\n",
      "Iteration:  25 Loss:  0.41738599305686186\n",
      "Iteration:  26 Loss:  0.41542986619408995\n",
      "Iteration:  27 Loss:  0.4164890757191564\n",
      "Iteration:  28 Loss:  0.40424002562990025\n",
      "Iteration:  29 Loss:  0.3950409408205056\n",
      "Iteration:  30 Loss:  0.3909325545316359\n",
      "Iteration:  31 Loss:  0.3930520692322944\n",
      "Iteration:  32 Loss:  0.3853703560869981\n",
      "Iteration:  33 Loss:  0.37880701719490856\n",
      "Iteration:  34 Loss:  0.3765559633642025\n",
      "Iteration:  35 Loss:  0.3766296966628551\n",
      "Iteration:  36 Loss:  0.3779018572037819\n",
      "Iteration:  37 Loss:  0.3808349805703111\n",
      "Iteration:  38 Loss:  0.3610100988849682\n",
      "Iteration:  39 Loss:  0.36054679499252557\n",
      "Iteration:  40 Loss:  0.36275083830802285\n",
      "Iteration:  41 Loss:  0.3638540645161178\n",
      "Iteration:  42 Loss:  0.3651370620589729\n",
      "Iteration:  43 Loss:  0.3522376592728444\n",
      "Iteration:  44 Loss:  0.3529118134143644\n",
      "Iteration:  45 Loss:  0.3556171508846734\n",
      "Iteration:  46 Loss:  0.35699658156624553\n",
      "Iteration:  47 Loss:  0.3457230724942035\n",
      "Iteration:  48 Loss:  0.33933554759357065\n",
      "Iteration:  49 Loss:  0.33434321646384624\n",
      "Iteration:  50 Loss:  0.33000759433050747\n",
      "Iteration:  51 Loss:  0.32875792186600106\n",
      "Iteration:  52 Loss:  0.32605108362235496\n",
      "Iteration:  53 Loss:  0.32375343129915285\n",
      "Iteration:  54 Loss:  0.3218834526825222\n",
      "Iteration:  55 Loss:  0.32115285359482243\n",
      "Iteration:  56 Loss:  0.32120491706015436\n",
      "Iteration:  57 Loss:  0.31767304904350996\n",
      "Iteration:  58 Loss:  0.3147783131269343\n",
      "Iteration:  59 Loss:  0.31223741746686257\n",
      "Iteration:  60 Loss:  0.3110412946617243\n",
      "Iteration:  61 Loss:  0.309645373309433\n",
      "Iteration:  62 Loss:  0.3104547207879625\n",
      "Iteration:  63 Loss:  0.3074689239840904\n",
      "Iteration:  64 Loss:  0.30567463312641086\n",
      "Iteration:  65 Loss:  0.3038395042486397\n",
      "Iteration:  66 Loss:  0.3020161379612061\n",
      "Iteration:  67 Loss:  0.3022932353192884\n",
      "Iteration:  68 Loss:  0.30299835136740355\n",
      "Iteration:  69 Loss:  0.3079203335794231\n",
      "Iteration:  70 Loss:  0.3103509211144072\n",
      "Iteration:  71 Loss:  0.31159567365775076\n",
      "Iteration:  72 Loss:  0.32008190551380167\n",
      "Iteration:  73 Loss:  0.3214169479064557\n",
      "Iteration:  74 Loss:  0.31452432532684726\n",
      "Iteration:  75 Loss:  0.30338134604880357\n",
      "Iteration:  76 Loss:  0.30460471314498694\n",
      "Iteration:  77 Loss:  0.30000529371265633\n",
      "Iteration:  78 Loss:  0.29737917430492733\n",
      "Iteration:  79 Loss:  0.29906162549478\n",
      "Iteration:  80 Loss:  0.29659136317525353\n",
      "Iteration:  81 Loss:  0.29717079267323016\n",
      "Iteration:  82 Loss:  0.29163718275903106\n",
      "Iteration:  83 Loss:  0.2916966132379791\n",
      "Iteration:  84 Loss:  0.29269452046979777\n",
      "Iteration:  85 Loss:  0.2899001473796424\n",
      "Iteration:  86 Loss:  0.29223823296845325\n",
      "Iteration:  87 Loss:  0.2935305481693919\n",
      "Iteration:  88 Loss:  0.29657779381803556\n",
      "Iteration:  89 Loss:  0.29195186538927753\n",
      "Iteration:  90 Loss:  0.3006783330451762\n",
      "Iteration:  91 Loss:  0.3027223246519101\n",
      "Iteration:  92 Loss:  0.29856354969524423\n",
      "Iteration:  93 Loss:  0.2926881828033248\n",
      "Iteration:  94 Loss:  0.294517289472698\n",
      "Iteration:  95 Loss:  0.28779387378519866\n",
      "Iteration:  96 Loss:  0.27776171873645245\n",
      "Iteration:  97 Loss:  0.2777034216312741\n",
      "Iteration:  98 Loss:  0.2770420943897083\n",
      "Iteration:  99 Loss:  0.2777895667928465\n",
      "Iteration:  100 Loss:  0.2766563673122268\n",
      "Iteration:  101 Loss:  0.27497289356810356\n",
      "Iteration:  102 Loss:  0.2744585915113664\n",
      "Iteration:  103 Loss:  0.2730757181049577\n",
      "Iteration:  104 Loss:  0.2727909958715112\n",
      "Iteration:  105 Loss:  0.27198600188442956\n",
      "Iteration:  106 Loss:  0.271637043034789\n",
      "Iteration:  107 Loss:  0.27148465069084066\n",
      "Iteration:  108 Loss:  0.27131953528847935\n",
      "Iteration:  109 Loss:  0.2721699678212074\n",
      "Iteration:  110 Loss:  0.27095211922990614\n",
      "Iteration:  111 Loss:  0.27014652426122915\n",
      "Iteration:  112 Loss:  0.26902310098601534\n",
      "Iteration:  113 Loss:  0.2691607283246184\n",
      "Iteration:  114 Loss:  0.2686736051313215\n",
      "Iteration:  115 Loss:  0.267180873425538\n",
      "Iteration:  116 Loss:  0.26721327112903265\n",
      "Iteration:  117 Loss:  0.2677287968884702\n",
      "Iteration:  118 Loss:  0.2679528728503963\n",
      "Iteration:  119 Loss:  0.27253309829399\n",
      "Iteration:  120 Loss:  0.2730273210749077\n",
      "Iteration:  121 Loss:  0.27420649946499304\n",
      "Iteration:  122 Loss:  0.2696647577730851\n",
      "Iteration:  123 Loss:  0.2675572078266933\n",
      "Iteration:  124 Loss:  0.26927368377185024\n",
      "Iteration:  125 Loss:  0.2725895567858256\n",
      "Iteration:  126 Loss:  0.2683636553124453\n",
      "Iteration:  127 Loss:  0.2656300121556055\n",
      "Iteration:  128 Loss:  0.263838019240164\n",
      "Iteration:  129 Loss:  0.26570779716855375\n",
      "Iteration:  130 Loss:  0.26608588171964354\n",
      "Iteration:  131 Loss:  0.26719707884150773\n",
      "Iteration:  132 Loss:  0.26155578234066923\n",
      "Iteration:  133 Loss:  0.26170603604007503\n",
      "Iteration:  134 Loss:  0.26225777464210775\n",
      "Iteration:  135 Loss:  0.2633699511090888\n",
      "Iteration:  136 Loss:  0.26694766561651373\n",
      "Iteration:  137 Loss:  0.2585838204988473\n",
      "Iteration:  138 Loss:  0.25902882514734427\n",
      "Iteration:  139 Loss:  0.2594861603656672\n",
      "Iteration:  140 Loss:  0.257274047097065\n",
      "Iteration:  141 Loss:  0.2563951325105567\n",
      "Iteration:  142 Loss:  0.26086513234530967\n",
      "Iteration:  143 Loss:  0.25871182602823906\n",
      "Iteration:  144 Loss:  0.2590586436873612\n",
      "Iteration:  145 Loss:  0.25610513748001756\n",
      "Iteration:  146 Loss:  0.2562941338331237\n",
      "Iteration:  147 Loss:  0.2554055994605935\n",
      "Iteration:  148 Loss:  0.2573039062955629\n",
      "Iteration:  149 Loss:  0.25629160976286575\n",
      "Iteration:  150 Loss:  0.25535116257662827\n",
      "Iteration:  151 Loss:  0.25744702089716875\n",
      "Iteration:  152 Loss:  0.2570480441564026\n",
      "Iteration:  153 Loss:  0.2561408316282118\n",
      "Iteration:  154 Loss:  0.25572866819717205\n",
      "Iteration:  155 Loss:  0.25537027193852085\n",
      "Iteration:  156 Loss:  0.25632066907555734\n",
      "Iteration:  157 Loss:  0.2577176165703875\n",
      "Iteration:  158 Loss:  0.25507559038873234\n",
      "Iteration:  159 Loss:  0.25448915522671295\n",
      "Iteration:  160 Loss:  0.2536260997955984\n",
      "Iteration:  161 Loss:  0.25367213003875344\n",
      "Iteration:  162 Loss:  0.253515892935504\n",
      "Iteration:  163 Loss:  0.253071546759046\n",
      "Iteration:  164 Loss:  0.25237109463529556\n",
      "Iteration:  165 Loss:  0.25226302315062354\n",
      "Iteration:  166 Loss:  0.25243381962329836\n",
      "Iteration:  167 Loss:  0.2529482022568973\n",
      "Iteration:  168 Loss:  0.25280622191474444\n",
      "Iteration:  169 Loss:  0.2515792964470842\n",
      "Iteration:  170 Loss:  0.2516872272995486\n",
      "Iteration:  171 Loss:  0.2519184595264925\n",
      "Iteration:  172 Loss:  0.2522346754940209\n",
      "Iteration:  173 Loss:  0.25248662202244004\n",
      "Iteration:  174 Loss:  0.2511702358289469\n",
      "Iteration:  175 Loss:  0.25150455949443395\n",
      "Iteration:  176 Loss:  0.2518832346768178\n",
      "Iteration:  177 Loss:  0.25051091977659995\n",
      "Iteration:  178 Loss:  0.2497305562044336\n",
      "Iteration:  179 Loss:  0.24974641998617825\n",
      "Iteration:  180 Loss:  0.24970569364734413\n",
      "Iteration:  181 Loss:  0.2497391623551195\n",
      "Iteration:  182 Loss:  0.24965962140882694\n",
      "Iteration:  183 Loss:  0.24998615373205305\n",
      "Iteration:  184 Loss:  0.25034891683926236\n",
      "Iteration:  185 Loss:  0.2508222097089806\n",
      "Iteration:  186 Loss:  0.2526710902036272\n",
      "Iteration:  187 Loss:  0.25079639081170596\n",
      "Iteration:  188 Loss:  0.25170214602857743\n",
      "Iteration:  189 Loss:  0.25081587276902456\n",
      "Iteration:  190 Loss:  0.2505491167586893\n",
      "Iteration:  191 Loss:  0.24963692833578668\n",
      "Iteration:  192 Loss:  0.24904641260928995\n",
      "Iteration:  193 Loss:  0.24924158475843855\n",
      "Iteration:  194 Loss:  0.24802471825252778\n",
      "Iteration:  195 Loss:  0.24810069996286904\n",
      "Iteration:  196 Loss:  0.24802334280678684\n",
      "Iteration:  197 Loss:  0.2481814135756271\n",
      "Iteration:  198 Loss:  0.24850910422132505\n",
      "Iteration:  199 Loss:  0.24905394339042988\n",
      "Iteration:  200 Loss:  0.24844192164856488\n",
      "Iteration:  201 Loss:  0.24766180134160953\n",
      "Iteration:  202 Loss:  0.24692373750851138\n",
      "Iteration:  203 Loss:  0.2469863541576527\n",
      "Iteration:  204 Loss:  0.24729549852412303\n",
      "Iteration:  205 Loss:  0.24716173392314186\n",
      "Iteration:  206 Loss:  0.24757963991233106\n",
      "Iteration:  207 Loss:  0.24872572273061022\n",
      "Iteration:  208 Loss:  0.24727599208978143\n",
      "Iteration:  209 Loss:  0.24806359013002854\n",
      "Iteration:  210 Loss:  0.24910763282218884\n",
      "Iteration:  211 Loss:  0.24979516360253973\n",
      "Iteration:  212 Loss:  0.24805642206901013\n",
      "Iteration:  213 Loss:  0.24892010034903284\n",
      "Iteration:  214 Loss:  0.24832868834474614\n",
      "Iteration:  215 Loss:  0.250201728873843\n",
      "Iteration:  216 Loss:  0.2514812304206991\n",
      "Iteration:  217 Loss:  0.25066418734095064\n",
      "Iteration:  218 Loss:  0.25008054411107183\n",
      "Iteration:  219 Loss:  0.2496534920782496\n",
      "Iteration:  220 Loss:  0.2461941642613843\n",
      "Iteration:  221 Loss:  0.24465710834728488\n",
      "Iteration:  222 Loss:  0.24465658966484505\n",
      "Iteration:  223 Loss:  0.24467896073758058\n",
      "Iteration:  224 Loss:  0.24479752410107125\n",
      "Iteration:  225 Loss:  0.24437833938724826\n",
      "Iteration:  226 Loss:  0.24441293101424005\n",
      "Iteration:  227 Loss:  0.2443909389755865\n",
      "Iteration:  228 Loss:  0.24489442632870578\n",
      "Iteration:  229 Loss:  0.2443799306338808\n",
      "Iteration:  230 Loss:  0.24418397906752717\n",
      "Iteration:  231 Loss:  0.24419786093206564\n",
      "Iteration:  232 Loss:  0.244245156001402\n",
      "Iteration:  233 Loss:  0.24449989635082997\n",
      "Iteration:  234 Loss:  0.24530347319756451\n",
      "Iteration:  235 Loss:  0.24748216679420426\n",
      "Iteration:  236 Loss:  0.24734897760997765\n",
      "Iteration:  237 Loss:  0.24651859108179874\n",
      "Iteration:  238 Loss:  0.24594021632582996\n",
      "Iteration:  239 Loss:  0.24761423661019943\n",
      "Iteration:  240 Loss:  0.24915162585464723\n",
      "Iteration:  241 Loss:  0.24969715628710792\n",
      "Iteration:  242 Loss:  0.2501287594132958\n",
      "Iteration:  243 Loss:  0.24818161162496422\n",
      "Iteration:  244 Loss:  0.2476173867900423\n",
      "Iteration:  245 Loss:  0.24956353319988467\n",
      "Iteration:  246 Loss:  0.250391502374672\n",
      "Iteration:  247 Loss:  0.25117198092151194\n",
      "Iteration:  248 Loss:  0.25168435949441825\n",
      "Iteration:  249 Loss:  0.25285436345999884\n",
      "Iteration:  250 Loss:  0.24706222425931262\n",
      "Iteration:  251 Loss:  0.2462454937938272\n",
      "Iteration:  252 Loss:  0.2448092713838883\n",
      "Iteration:  253 Loss:  0.24506398145135105\n",
      "Iteration:  254 Loss:  0.24618040886473874\n",
      "Iteration:  255 Loss:  0.24547332751488804\n",
      "Iteration:  256 Loss:  0.24407112666208097\n",
      "Iteration:  257 Loss:  0.24424015609953859\n",
      "Iteration:  258 Loss:  0.24398958985689262\n",
      "Iteration:  259 Loss:  0.24517666071500388\n",
      "Iteration:  260 Loss:  0.24338632195978308\n",
      "Iteration:  261 Loss:  0.2436226868712115\n",
      "Iteration:  262 Loss:  0.2440416777899324\n",
      "Iteration:  263 Loss:  0.24365201293705607\n",
      "Iteration:  264 Loss:  0.24398594742728497\n",
      "Iteration:  265 Loss:  0.244489181003767\n",
      "Iteration:  266 Loss:  0.24423124455357093\n",
      "Iteration:  267 Loss:  0.2455879235786923\n",
      "Iteration:  268 Loss:  0.24523756899233318\n",
      "Iteration:  269 Loss:  0.2455957686567522\n",
      "Iteration:  270 Loss:  0.2445554083376246\n",
      "Iteration:  271 Loss:  0.24436173525433544\n",
      "Iteration:  272 Loss:  0.24475032967164134\n",
      "Iteration:  273 Loss:  0.2450242454739798\n",
      "Iteration:  274 Loss:  0.24480051585868756\n",
      "Iteration:  275 Loss:  0.24440181670561795\n",
      "Iteration:  276 Loss:  0.24339996317888174\n",
      "Iteration:  277 Loss:  0.24351449586537305\n",
      "Iteration:  278 Loss:  0.24333382388325392\n",
      "Iteration:  279 Loss:  0.24376940224191823\n",
      "Iteration:  280 Loss:  0.24323376303908884\n",
      "Iteration:  281 Loss:  0.2433805053283078\n",
      "Iteration:  282 Loss:  0.2437828669259185\n",
      "Iteration:  283 Loss:  0.24353428072834532\n",
      "Iteration:  284 Loss:  0.2431537787649966\n",
      "Iteration:  285 Loss:  0.2433455021548197\n",
      "Iteration:  286 Loss:  0.24303451209842097\n",
      "Iteration:  287 Loss:  0.2428866105587854\n",
      "Iteration:  288 Loss:  0.24284364110742918\n",
      "Iteration:  289 Loss:  0.2451115728268375\n",
      "Iteration:  290 Loss:  0.24524860985912555\n",
      "Iteration:  291 Loss:  0.2455333967877702\n",
      "Iteration:  292 Loss:  0.24458241624273924\n",
      "Iteration:  293 Loss:  0.24425294176865103\n",
      "Iteration:  294 Loss:  0.24354092983266518\n",
      "Iteration:  295 Loss:  0.24310487077590154\n",
      "Iteration:  296 Loss:  0.24318914249110524\n",
      "Iteration:  297 Loss:  0.2428135955003708\n",
      "Iteration:  298 Loss:  0.24311678292336203\n",
      "Iteration:  299 Loss:  0.24266029160668567\n",
      "Iteration:  300 Loss:  0.24215539581564954\n"
     ]
    }
   ],
   "source": [
    "loss, w, b, w_history, b_history = Stochastic_GD(X_train27, y_train27, step = 0.01, batch_size = 1, epochs = 300)"
   ]
  },
  {
   "cell_type": "code",
   "execution_count": 69,
   "metadata": {
    "id": "5f6E04PIs8v_"
   },
   "outputs": [],
   "source": [
    "test_loss = [J(w, b, X_test27, y_test27, lambd = 0.1) for w, b in zip(w_history, b_history)]"
   ]
  },
  {
   "cell_type": "code",
   "execution_count": 70,
   "metadata": {
    "colab": {
     "base_uri": "https://localhost:8080/",
     "height": 404
    },
    "id": "z53qF4MkqD6I",
    "outputId": "e9c2ad53-5294-4545-89d4-859ac65085f9"
   },
   "outputs": [
    {
     "data": {
      "image/png": "[encoded data removed]",
      "text/plain": [
       "<Figure size 720x432 with 1 Axes>"
      ]
     },
     "metadata": {
      "needs_background": "light",
      "tags": []
     },
     "output_type": "display_data"
    }
   ],
   "source": [
    "# part c (i)\n",
    "plt.figure(figsize = (10,6))\n",
    "plt.plot(loss, '-r', label = 'train_loss')\n",
    "plt.plot(test_loss, '-b', label = 'test_loss')\n",
    "plt.title('Problem 7.c (i): SGD Loss, (batch_size = 1)')\n",
    "plt.legend()\n",
    "plt.xlabel('iteration')\n",
    "plt.ylabel('error')\n",
    "plt.show()"
   ]
  },
  {
   "cell_type": "code",
   "execution_count": 71,
   "metadata": {
    "id": "ANPqxwsLvvec"
   },
   "outputs": [],
   "source": [
    "# part c (ii)\n",
    "y_train_pred = [predict(X_train27, w, b) for w, b in zip(w_history, b_history)]\n",
    "train_error = [missclassification_error(y_train_pred, y_train27) for y_train_pred in y_train_pred]\n",
    "\n",
    "y_test_pred = [predict(X_test27, w, b) for w, b in zip(w_history, b_history)]\n",
    "test_error = [missclassification_error(y_test_pred, y_test27) for y_test_pred in y_test_pred]"
   ]
  },
  {
   "cell_type": "code",
   "execution_count": 72,
   "metadata": {
    "colab": {
     "base_uri": "https://localhost:8080/",
     "height": 404
    },
    "id": "2CRX9jB9vyyE",
    "outputId": "66a99476-5453-4003-f71e-bb053509a9f4"
   },
   "outputs": [
    {
     "data": {
      "image/png": "[encoded data removed]",
      "text/plain": [
       "<Figure size 720x432 with 1 Axes>"
      ]
     },
     "metadata": {
      "needs_background": "light",
      "tags": []
     },
     "output_type": "display_data"
    }
   ],
   "source": [
    "#plot\n",
    "plt.figure(figsize=(10,6))\n",
    "plt.plot(train_error, '-r', label = 'training error')\n",
    "plt.plot(test_error, '-b', label = \"test error\")\n",
    "plt.title('problem 7.c (ii): error rate at each iteration')\n",
    "plt.legend()\n",
    "plt.xlabel('iteration')\n",
    "plt.ylabel('error')\n",
    "plt.show()"
   ]
  },
  {
   "cell_type": "markdown",
   "metadata": {
    "id": "LRmwbFu7xMWH"
   },
   "source": [
    "PART D"
   ]
  },
  {
   "cell_type": "code",
   "execution_count": 73,
   "metadata": {
    "colab": {
     "base_uri": "https://localhost:8080/"
    },
    "id": "Z3j4bmHAw2dw",
    "outputId": "5281bb7a-c060-404e-98b5-3be15ed8943d"
   },
   "outputs": [
    {
     "name": "stdout",
     "output_type": "stream",
     "text": [
      "Training....\n",
      "Iteration:  1 Loss:  0.6757659451061574\n",
      "Iteration:  2 Loss:  0.6602015525759861\n",
      "Iteration:  3 Loss:  0.6457512368695643\n",
      "Iteration:  4 Loss:  0.6322434857900724\n",
      "Iteration:  5 Loss:  0.6187319575403999\n",
      "Iteration:  6 Loss:  0.6046828995276811\n",
      "Iteration:  7 Loss:  0.5909752966191674\n",
      "Iteration:  8 Loss:  0.5793886534542172\n",
      "Iteration:  9 Loss:  0.5666004740702415\n",
      "Iteration:  10 Loss:  0.5553402010251228\n",
      "Iteration:  11 Loss:  0.5444930632687095\n",
      "Iteration:  12 Loss:  0.5331603347554263\n",
      "Iteration:  13 Loss:  0.5234914624279172\n",
      "Iteration:  14 Loss:  0.5139980468096291\n",
      "Iteration:  15 Loss:  0.5050016394959677\n",
      "Iteration:  16 Loss:  0.4964064411954468\n",
      "Iteration:  17 Loss:  0.48789634471096116\n",
      "Iteration:  18 Loss:  0.48057092833251475\n",
      "Iteration:  19 Loss:  0.4731185199824902\n",
      "Iteration:  20 Loss:  0.4654708872958677\n",
      "Iteration:  21 Loss:  0.45878085095014143\n",
      "Iteration:  22 Loss:  0.4526857100500565\n",
      "Iteration:  23 Loss:  0.4454304788361303\n",
      "Iteration:  24 Loss:  0.4401830344766864\n",
      "Iteration:  25 Loss:  0.4340174703182834\n",
      "Iteration:  26 Loss:  0.42853684768610867\n",
      "Iteration:  27 Loss:  0.42337562481758806\n",
      "Iteration:  28 Loss:  0.4177077343422349\n",
      "Iteration:  29 Loss:  0.4127819709173033\n",
      "Iteration:  30 Loss:  0.4079523806285828\n",
      "Iteration:  31 Loss:  0.4031802693271956\n",
      "Iteration:  32 Loss:  0.39848830100995186\n",
      "Iteration:  33 Loss:  0.3938886803100549\n",
      "Iteration:  34 Loss:  0.3897721590726636\n",
      "Iteration:  35 Loss:  0.3856094694578711\n",
      "Iteration:  36 Loss:  0.38163769204179443\n",
      "Iteration:  37 Loss:  0.3777937825567049\n",
      "Iteration:  38 Loss:  0.3742471201063269\n",
      "Iteration:  39 Loss:  0.37066467495707384\n",
      "Iteration:  40 Loss:  0.3673473385285744\n",
      "Iteration:  41 Loss:  0.3641472996854437\n",
      "Iteration:  42 Loss:  0.36097344214383503\n",
      "Iteration:  43 Loss:  0.3580182962528547\n",
      "Iteration:  44 Loss:  0.35484942361115307\n",
      "Iteration:  45 Loss:  0.35193538676320746\n",
      "Iteration:  46 Loss:  0.3496215158691683\n",
      "Iteration:  47 Loss:  0.3470636028658714\n",
      "Iteration:  48 Loss:  0.34469341191006053\n",
      "Iteration:  49 Loss:  0.34227720185066574\n",
      "Iteration:  50 Loss:  0.3397560611701935\n",
      "Iteration:  51 Loss:  0.3374094014359189\n",
      "Iteration:  52 Loss:  0.33507827176300187\n",
      "Iteration:  53 Loss:  0.3329581651502502\n",
      "Iteration:  54 Loss:  0.33094250548245957\n",
      "Iteration:  55 Loss:  0.3287428032114772\n",
      "Iteration:  56 Loss:  0.3268716400546088\n",
      "Iteration:  57 Loss:  0.3246917876619298\n",
      "Iteration:  58 Loss:  0.3226009117608416\n",
      "Iteration:  59 Loss:  0.32057663739999026\n",
      "Iteration:  60 Loss:  0.3185838228374996\n",
      "Iteration:  61 Loss:  0.31674987266077714\n",
      "Iteration:  62 Loss:  0.3150651204552166\n",
      "Iteration:  63 Loss:  0.3133203275784619\n",
      "Iteration:  64 Loss:  0.31175678944885327\n",
      "Iteration:  65 Loss:  0.3101947419024311\n",
      "Iteration:  66 Loss:  0.30856980343299534\n",
      "Iteration:  67 Loss:  0.3071693394867752\n",
      "Iteration:  68 Loss:  0.3057419519251312\n",
      "Iteration:  69 Loss:  0.30443224660745766\n",
      "Iteration:  70 Loss:  0.30303519275663404\n",
      "Iteration:  71 Loss:  0.30171173966978887\n",
      "Iteration:  72 Loss:  0.30050678047948365\n",
      "Iteration:  73 Loss:  0.29925011481087505\n",
      "Iteration:  74 Loss:  0.297999217216187\n",
      "Iteration:  75 Loss:  0.2966707208767065\n",
      "Iteration:  76 Loss:  0.2954109953888051\n",
      "Iteration:  77 Loss:  0.29423733587656453\n",
      "Iteration:  78 Loss:  0.29315757713862123\n",
      "Iteration:  79 Loss:  0.29200766161471214\n",
      "Iteration:  80 Loss:  0.29085200539373224\n",
      "Iteration:  81 Loss:  0.2898271306918073\n",
      "Iteration:  82 Loss:  0.28889788324435794\n",
      "Iteration:  83 Loss:  0.2878801386328195\n",
      "Iteration:  84 Loss:  0.286899440584067\n",
      "Iteration:  85 Loss:  0.28600137112310914\n",
      "Iteration:  86 Loss:  0.285082964438622\n",
      "Iteration:  87 Loss:  0.28422732371784226\n",
      "Iteration:  88 Loss:  0.28355100577817066\n",
      "Iteration:  89 Loss:  0.28269175598713575\n",
      "Iteration:  90 Loss:  0.2818566540019105\n",
      "Iteration:  91 Loss:  0.2810605938066015\n",
      "Iteration:  92 Loss:  0.280321539775931\n",
      "Iteration:  93 Loss:  0.2795462541144855\n",
      "Iteration:  94 Loss:  0.2787150290855667\n",
      "Iteration:  95 Loss:  0.27786799672665197\n",
      "Iteration:  96 Loss:  0.27712877354711374\n",
      "Iteration:  97 Loss:  0.2764587714846987\n",
      "Iteration:  98 Loss:  0.2757610316986113\n",
      "Iteration:  99 Loss:  0.2750982403964316\n",
      "Iteration:  100 Loss:  0.2742506113355627\n",
      "Iteration:  101 Loss:  0.2736615092059485\n",
      "Iteration:  102 Loss:  0.2729409099341238\n",
      "Iteration:  103 Loss:  0.27230030341489525\n",
      "Iteration:  104 Loss:  0.27166741720658183\n",
      "Iteration:  105 Loss:  0.27105399142347214\n",
      "Iteration:  106 Loss:  0.27042867215400923\n",
      "Iteration:  107 Loss:  0.2698938224864099\n",
      "Iteration:  108 Loss:  0.26929681722805765\n",
      "Iteration:  109 Loss:  0.2686954373833838\n",
      "Iteration:  110 Loss:  0.2681450908155256\n",
      "Iteration:  111 Loss:  0.26756897001183927\n",
      "Iteration:  112 Loss:  0.26699242425235253\n",
      "Iteration:  113 Loss:  0.26653751889505917\n",
      "Iteration:  114 Loss:  0.26603094469937394\n",
      "Iteration:  115 Loss:  0.2655256158794205\n",
      "Iteration:  116 Loss:  0.26500569735332224\n",
      "Iteration:  117 Loss:  0.2646409631967559\n",
      "Iteration:  118 Loss:  0.26433017880503706\n",
      "Iteration:  119 Loss:  0.26391362174110033\n",
      "Iteration:  120 Loss:  0.26349579684056257\n",
      "Iteration:  121 Loss:  0.2630391118895111\n",
      "Iteration:  122 Loss:  0.2625660597882148\n",
      "Iteration:  123 Loss:  0.2620800822484843\n",
      "Iteration:  124 Loss:  0.2615451473519817\n",
      "Iteration:  125 Loss:  0.2610902641078134\n",
      "Iteration:  126 Loss:  0.26066627206708326\n",
      "Iteration:  127 Loss:  0.2602744007393042\n",
      "Iteration:  128 Loss:  0.25980392958190157\n",
      "Iteration:  129 Loss:  0.25949228494904253\n",
      "Iteration:  130 Loss:  0.2591372044657757\n",
      "Iteration:  131 Loss:  0.2588151343144587\n",
      "Iteration:  132 Loss:  0.25840106204126295\n",
      "Iteration:  133 Loss:  0.25805751659517184\n",
      "Iteration:  134 Loss:  0.257680179081361\n",
      "Iteration:  135 Loss:  0.25725465796321867\n",
      "Iteration:  136 Loss:  0.2569144896302311\n",
      "Iteration:  137 Loss:  0.25657684214287907\n",
      "Iteration:  138 Loss:  0.25625047160661685\n",
      "Iteration:  139 Loss:  0.2559017404203615\n",
      "Iteration:  140 Loss:  0.2555900708322224\n",
      "Iteration:  141 Loss:  0.25528980321218286\n",
      "Iteration:  142 Loss:  0.2549685091375659\n",
      "Iteration:  143 Loss:  0.2546481939312507\n",
      "Iteration:  144 Loss:  0.254411054049343\n",
      "Iteration:  145 Loss:  0.25412424576897114\n",
      "Iteration:  146 Loss:  0.25386092537035\n",
      "Iteration:  147 Loss:  0.25361325287363745\n",
      "Iteration:  148 Loss:  0.2533978773338057\n",
      "Iteration:  149 Loss:  0.25313024724013433\n",
      "Iteration:  150 Loss:  0.25280544404122807\n",
      "Iteration:  151 Loss:  0.25252450892380685\n",
      "Iteration:  152 Loss:  0.25226272804157734\n",
      "Iteration:  153 Loss:  0.25202538381147327\n",
      "Iteration:  154 Loss:  0.251790021814125\n",
      "Iteration:  155 Loss:  0.25157078739866906\n",
      "Iteration:  156 Loss:  0.25134995692259304\n",
      "Iteration:  157 Loss:  0.2510982511841634\n",
      "Iteration:  158 Loss:  0.2508962865276932\n",
      "Iteration:  159 Loss:  0.25067676192059424\n",
      "Iteration:  160 Loss:  0.25046259124214093\n",
      "Iteration:  161 Loss:  0.2502612425345799\n",
      "Iteration:  162 Loss:  0.25005905509170534\n",
      "Iteration:  163 Loss:  0.24982949737561475\n",
      "Iteration:  164 Loss:  0.24961990360986036\n",
      "Iteration:  165 Loss:  0.24946461944003445\n",
      "Iteration:  166 Loss:  0.24925290233160566\n",
      "Iteration:  167 Loss:  0.24905537191636698\n",
      "Iteration:  168 Loss:  0.24894811139130582\n",
      "Iteration:  169 Loss:  0.2487718503322422\n",
      "Iteration:  170 Loss:  0.24859299745548497\n",
      "Iteration:  171 Loss:  0.2484138782862475\n",
      "Iteration:  172 Loss:  0.24824968186436425\n",
      "Iteration:  173 Loss:  0.2481080507112491\n",
      "Iteration:  174 Loss:  0.2480004178319081\n",
      "Iteration:  175 Loss:  0.24777998623283262\n",
      "Iteration:  176 Loss:  0.2476581913268027\n",
      "Iteration:  177 Loss:  0.24744771383212102\n",
      "Iteration:  178 Loss:  0.24734336014095254\n",
      "Iteration:  179 Loss:  0.24722571834672546\n",
      "Iteration:  180 Loss:  0.2470632673821449\n",
      "Iteration:  181 Loss:  0.2468629648780551\n",
      "Iteration:  182 Loss:  0.24667864493133207\n",
      "Iteration:  183 Loss:  0.24653263039546622\n",
      "Iteration:  184 Loss:  0.2463978542788518\n",
      "Iteration:  185 Loss:  0.24627743048819725\n",
      "Iteration:  186 Loss:  0.2461988299700637\n",
      "Iteration:  187 Loss:  0.246050960685686\n",
      "Iteration:  188 Loss:  0.24586201642415514\n",
      "Iteration:  189 Loss:  0.24578349769141056\n",
      "Iteration:  190 Loss:  0.2456856256296065\n",
      "Iteration:  191 Loss:  0.24558299088620883\n",
      "Iteration:  192 Loss:  0.24548079315652863\n",
      "Iteration:  193 Loss:  0.2453393107304181\n",
      "Iteration:  194 Loss:  0.2452151799261864\n",
      "Iteration:  195 Loss:  0.24509238547150505\n",
      "Iteration:  196 Loss:  0.24496839016013988\n",
      "Iteration:  197 Loss:  0.2448746113869818\n",
      "Iteration:  198 Loss:  0.24476439210566114\n",
      "Iteration:  199 Loss:  0.2446558871498825\n",
      "Iteration:  200 Loss:  0.2445399999587201\n",
      "Iteration:  201 Loss:  0.2443871617283281\n",
      "Iteration:  202 Loss:  0.24427168651822467\n",
      "Iteration:  203 Loss:  0.24413652823803042\n",
      "Iteration:  204 Loss:  0.24403436017737362\n",
      "Iteration:  205 Loss:  0.2439152501313795\n",
      "Iteration:  206 Loss:  0.24379201385249236\n",
      "Iteration:  207 Loss:  0.24367269040590045\n",
      "Iteration:  208 Loss:  0.243561065422861\n",
      "Iteration:  209 Loss:  0.24346664942020746\n",
      "Iteration:  210 Loss:  0.24337210212605737\n",
      "Iteration:  211 Loss:  0.24327667313584508\n",
      "Iteration:  212 Loss:  0.24319863800695832\n",
      "Iteration:  213 Loss:  0.24314536902807588\n",
      "Iteration:  214 Loss:  0.2430643337934686\n",
      "Iteration:  215 Loss:  0.2429861748725162\n",
      "Iteration:  216 Loss:  0.24287834764299593\n",
      "Iteration:  217 Loss:  0.24276105541779763\n",
      "Iteration:  218 Loss:  0.24266975214521913\n",
      "Iteration:  219 Loss:  0.24256360853930428\n",
      "Iteration:  220 Loss:  0.24248452753006347\n",
      "Iteration:  221 Loss:  0.2423788614739576\n",
      "Iteration:  222 Loss:  0.24228986263524654\n",
      "Iteration:  223 Loss:  0.2422173607230905\n",
      "Iteration:  224 Loss:  0.242111389286865\n",
      "Iteration:  225 Loss:  0.2420318112700451\n",
      "Iteration:  226 Loss:  0.24194224189079638\n",
      "Iteration:  227 Loss:  0.24187918322417665\n",
      "Iteration:  228 Loss:  0.24179448846436247\n",
      "Iteration:  229 Loss:  0.24170680615626816\n",
      "Iteration:  230 Loss:  0.24162798444292066\n",
      "Iteration:  231 Loss:  0.241528148614263\n",
      "Iteration:  232 Loss:  0.24145496963542898\n",
      "Iteration:  233 Loss:  0.24138902787109157\n",
      "Iteration:  234 Loss:  0.24130732637808336\n",
      "Iteration:  235 Loss:  0.24124327996416808\n",
      "Iteration:  236 Loss:  0.24118256786965703\n",
      "Iteration:  237 Loss:  0.24109978699312523\n",
      "Iteration:  238 Loss:  0.24101435780318423\n",
      "Iteration:  239 Loss:  0.2409615744394221\n",
      "Iteration:  240 Loss:  0.24090036513177632\n",
      "Iteration:  241 Loss:  0.24084778102669252\n",
      "Iteration:  242 Loss:  0.24080675414236744\n",
      "Iteration:  243 Loss:  0.2407688694425882\n",
      "Iteration:  244 Loss:  0.240734271720797\n",
      "Iteration:  245 Loss:  0.24065568832821763\n",
      "Iteration:  246 Loss:  0.2405640459663242\n",
      "Iteration:  247 Loss:  0.24051043109216885\n",
      "Iteration:  248 Loss:  0.24042058328647828\n",
      "Iteration:  249 Loss:  0.24032733100105907\n",
      "Iteration:  250 Loss:  0.240267230688587\n",
      "Iteration:  251 Loss:  0.24021523353691848\n",
      "Iteration:  252 Loss:  0.24018200597347256\n",
      "Iteration:  253 Loss:  0.2401820278463082\n",
      "Iteration:  254 Loss:  0.24015102948431966\n",
      "Iteration:  255 Loss:  0.24004687079694514\n",
      "Iteration:  256 Loss:  0.2399435010596226\n",
      "Iteration:  257 Loss:  0.2398978344494892\n",
      "Iteration:  258 Loss:  0.23988180341557186\n",
      "Iteration:  259 Loss:  0.23984401280764966\n",
      "Iteration:  260 Loss:  0.23978451333461143\n",
      "Iteration:  261 Loss:  0.2397455622595457\n",
      "Iteration:  262 Loss:  0.23970287434381363\n",
      "Iteration:  263 Loss:  0.23967195327663318\n",
      "Iteration:  264 Loss:  0.239606470900463\n",
      "Iteration:  265 Loss:  0.2395655887524149\n",
      "Iteration:  266 Loss:  0.23945397793842738\n",
      "Iteration:  267 Loss:  0.2394077047414414\n",
      "Iteration:  268 Loss:  0.2393506058369153\n",
      "Iteration:  269 Loss:  0.23927716026154633\n",
      "Iteration:  270 Loss:  0.23923462967073106\n",
      "Iteration:  271 Loss:  0.23918834373204595\n",
      "Iteration:  272 Loss:  0.23914402007007635\n",
      "Iteration:  273 Loss:  0.23908885251177014\n",
      "Iteration:  274 Loss:  0.23905658920863632\n",
      "Iteration:  275 Loss:  0.23903752047971333\n",
      "Iteration:  276 Loss:  0.23899553794480702\n",
      "Iteration:  277 Loss:  0.23893740475208985\n",
      "Iteration:  278 Loss:  0.23890478285598446\n",
      "Iteration:  279 Loss:  0.2388656637767237\n",
      "Iteration:  280 Loss:  0.23882563437599688\n",
      "Iteration:  281 Loss:  0.23876937771998696\n",
      "Iteration:  282 Loss:  0.23872615347358933\n",
      "Iteration:  283 Loss:  0.238699938814186\n",
      "Iteration:  284 Loss:  0.23865622301398354\n",
      "Iteration:  285 Loss:  0.23861572285744853\n",
      "Iteration:  286 Loss:  0.2385724955467432\n",
      "Iteration:  287 Loss:  0.23853520884098234\n",
      "Iteration:  288 Loss:  0.23851109236628665\n",
      "Iteration:  289 Loss:  0.23847426601351202\n",
      "Iteration:  290 Loss:  0.2384420971454992\n",
      "Iteration:  291 Loss:  0.238396556976392\n",
      "Iteration:  292 Loss:  0.23836943698516389\n",
      "Iteration:  293 Loss:  0.23834253034603606\n",
      "Iteration:  294 Loss:  0.23830527948553598\n",
      "Iteration:  295 Loss:  0.23829349227364865\n",
      "Iteration:  296 Loss:  0.23825044244108054\n",
      "Iteration:  297 Loss:  0.23819226387492354\n",
      "Iteration:  298 Loss:  0.238184461829205\n",
      "Iteration:  299 Loss:  0.238149229035643\n",
      "Iteration:  300 Loss:  0.2381318333677097\n"
     ]
    }
   ],
   "source": [
    "loss, w, b, w_history, b_history = Stochastic_GD(X_train27, y_train27, step = 0.01, batch_size = 100, epochs = 300)"
   ]
  },
  {
   "cell_type": "code",
   "execution_count": 74,
   "metadata": {
    "id": "c2ORNGmGxj68"
   },
   "outputs": [],
   "source": [
    "test_loss = [J(w, b, X_test27, y_test27, lambd = 0.1) for w, b in zip(w_history, b_history)]"
   ]
  },
  {
   "cell_type": "code",
   "execution_count": 78,
   "metadata": {
    "colab": {
     "base_uri": "https://localhost:8080/",
     "height": 404
    },
    "id": "0e4Autg6xxDU",
    "outputId": "eb8712f4-fd3c-4d5b-97bb-b159b8ee0d98"
   },
   "outputs": [
    {
     "data": {
      "image/png": "[encoded data removed]",
      "text/plain": [
       "<Figure size 720x432 with 1 Axes>"
      ]
     },
     "metadata": {
      "needs_background": "light",
      "tags": []
     },
     "output_type": "display_data"
    }
   ],
   "source": [
    "# part d (i)\n",
    "plt.figure(figsize = (10,6))\n",
    "plt.plot(loss, '-r', label = 'train_loss')\n",
    "plt.plot(test_loss, '-b', label = 'test_loss')\n",
    "plt.title('Problem 7.d (i): SGD Loss, (batch_size = 100)')\n",
    "plt.legend()\n",
    "plt.xlabel('iteration')\n",
    "plt.ylabel('error')\n",
    "plt.show()"
   ]
  },
  {
   "cell_type": "code",
   "execution_count": 79,
   "metadata": {
    "id": "EZ-kWr8Zx3_-"
   },
   "outputs": [],
   "source": [
    "# part d (ii)\n",
    "y_train_pred = [predict(X_train27, w, b) for w, b in zip(w_history, b_history)]\n",
    "train_error = [missclassification_error(y_train_pred, y_train27) for y_train_pred in y_train_pred]\n",
    "\n",
    "y_test_pred = [predict(X_test27, w, b) for w, b in zip(w_history, b_history)]\n",
    "test_error = [missclassification_error(y_test_pred, y_test27) for y_test_pred in y_test_pred]"
   ]
  },
  {
   "cell_type": "code",
   "execution_count": 81,
   "metadata": {
    "colab": {
     "base_uri": "https://localhost:8080/",
     "height": 404
    },
    "id": "XlzTgb6qyK1Z",
    "outputId": "03e0eb6b-46c3-4d5a-da22-fc6af4594d37"
   },
   "outputs": [
    {
     "data": {
      "image/png": "[encoded data removed]",
      "text/plain": [
       "<Figure size 720x432 with 1 Axes>"
      ]
     },
     "metadata": {
      "needs_background": "light",
      "tags": []
     },
     "output_type": "display_data"
    }
   ],
   "source": [
    "#plot\n",
    "plt.figure(figsize=(10,6))\n",
    "plt.plot(train_error, '-r', label = 'training error')\n",
    "plt.plot(test_error, '-b', label = \"test error\")\n",
    "plt.title('problem 7.d (ii): error rate at each iteration')\n",
    "plt.legend()\n",
    "plt.xlabel('iteration')\n",
    "plt.ylabel('error')\n",
    "plt.show()"
   ]
  }
 ],
 "metadata": {
  "colab": {
   "name": "Binary Logistic regression - hw 2 problem 7.ipynb",
   "provenance": []
  },
  "kernelspec": {
   "display_name": "Python 3",
   "language": "python",
   "name": "python3"
  },
  "language_info": {
   "codemirror_mode": {
    "name": "ipython",
    "version": 3
   },
   "file_extension": ".py",
   "mimetype": "text/x-python",
   "name": "python",
   "nbconvert_exporter": "python",
   "pygments_lexer": "ipython3",
   "version": "3.8.5"
  }
 },
 "nbformat": 4,
 "nbformat_minor": 1
}
